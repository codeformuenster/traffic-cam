{
  "nbformat": 4,
  "nbformat_minor": 0,
  "metadata": {
    "colab": {
      "name": "yolo_demo.ipynb",
      "provenance": [],
      "collapsed_sections": [],
      "include_colab_link": true
    },
    "kernelspec": {
      "name": "python3",
      "display_name": "Python 3"
    }
  },
  "cells": [
    {
      "cell_type": "markdown",
      "metadata": {
        "id": "view-in-github",
        "colab_type": "text"
      },
      "source": [
        "<a href=\"https://colab.research.google.com/github/ThorbenJensen/traffic-cam/blob/master/yolo_demo.ipynb\" target=\"_parent\"><img src=\"https://colab.research.google.com/assets/colab-badge.svg\" alt=\"Open In Colab\"/></a>"
      ]
    },
    {
      "cell_type": "code",
      "metadata": {
        "id": "NiON3_ytB4Nz",
        "colab_type": "code",
        "colab": {
          "base_uri": "https://localhost:8080/",
          "height": 306
        },
        "outputId": "ecc8ee3d-6ba0-4e53-f1ed-887fb3a6a8bd"
      },
      "source": [
        "!pip install yolo34py"
      ],
      "execution_count": 1,
      "outputs": [
        {
          "output_type": "stream",
          "text": [
            "Collecting yolo34py\n",
            "\u001b[?25l  Downloading https://files.pythonhosted.org/packages/fa/25/91792cac161adf97d0dd9c0954c0f2c9d8c93bf9c5404ddff9fcd4b58ecf/yolo34py-0.1rc12.tar.gz (67kB)\n",
            "\r\u001b[K     |████▉                           | 10kB 21.4MB/s eta 0:00:01\r\u001b[K     |█████████▊                      | 20kB 7.0MB/s eta 0:00:01\r\u001b[K     |██████████████▋                 | 30kB 9.8MB/s eta 0:00:01\r\u001b[K     |███████████████████▍            | 40kB 6.1MB/s eta 0:00:01\r\u001b[K     |████████████████████████▎       | 51kB 7.4MB/s eta 0:00:01\r\u001b[K     |█████████████████████████████▏  | 61kB 8.7MB/s eta 0:00:01\r\u001b[K     |████████████████████████████████| 71kB 5.0MB/s \n",
            "\u001b[?25hRequirement already satisfied: cython>=0.27 in /usr/local/lib/python3.6/dist-packages (from yolo34py) (0.29.13)\n",
            "Requirement already satisfied: requests in /usr/local/lib/python3.6/dist-packages (from yolo34py) (2.21.0)\n",
            "Requirement already satisfied: numpy in /usr/local/lib/python3.6/dist-packages (from yolo34py) (1.17.3)\n",
            "Requirement already satisfied: certifi>=2017.4.17 in /usr/local/lib/python3.6/dist-packages (from requests->yolo34py) (2019.9.11)\n",
            "Requirement already satisfied: urllib3<1.25,>=1.21.1 in /usr/local/lib/python3.6/dist-packages (from requests->yolo34py) (1.24.3)\n",
            "Requirement already satisfied: idna<2.9,>=2.5 in /usr/local/lib/python3.6/dist-packages (from requests->yolo34py) (2.8)\n",
            "Requirement already satisfied: chardet<3.1.0,>=3.0.2 in /usr/local/lib/python3.6/dist-packages (from requests->yolo34py) (3.0.4)\n",
            "Building wheels for collected packages: yolo34py\n",
            "  Building wheel for yolo34py (setup.py) ... \u001b[?25l\u001b[?25hdone\n",
            "  Created wheel for yolo34py: filename=yolo34py-0.1rc12-cp36-cp36m-linux_x86_64.whl size=401936 sha256=c4b3a4ba7110fa21ea7246a9948e4bb22540409b50cba8aea98e46a50017bc02\n",
            "  Stored in directory: /root/.cache/pip/wheels/dd/84/c6/5d075ce65f2e73104ff9ed6c3bce18d3461fe7235547029afb\n",
            "Successfully built yolo34py\n",
            "Installing collected packages: yolo34py\n",
            "Successfully installed yolo34py-0.1rc12\n"
          ],
          "name": "stdout"
        }
      ]
    },
    {
      "cell_type": "code",
      "metadata": {
        "id": "Xc_JDRtLB7_Y",
        "colab_type": "code",
        "colab": {}
      },
      "source": [
        ""
      ],
      "execution_count": 0,
      "outputs": []
    }
  ]
}